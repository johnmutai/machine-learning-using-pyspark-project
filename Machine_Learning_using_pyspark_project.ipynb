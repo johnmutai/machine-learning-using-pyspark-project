{
  "cells": [
    {
      "cell_type": "code",
      "execution_count": 31,
      "metadata": {
        "colab": {
          "base_uri": "https://localhost:8080/"
        },
        "id": "1sBOc26yIk5r",
        "outputId": "a30afac0-109e-406e-b88b-59c629aa0581"
      },
      "outputs": [
        {
          "output_type": "stream",
          "name": "stdout",
          "text": [
            "Requirement already satisfied: pyspark in /usr/local/lib/python3.10/dist-packages (3.4.1)\n",
            "Requirement already satisfied: py4j==0.10.9.7 in /usr/local/lib/python3.10/dist-packages (from pyspark) (0.10.9.7)\n"
          ]
        }
      ],
      "source": [
        "# Installing PySpark\n",
        "\n",
        "!pip install pyspark"
      ]
    },
    {
      "cell_type": "code",
      "execution_count": 32,
      "metadata": {
        "colab": {
          "base_uri": "https://localhost:8080/"
        },
        "id": "3aV4OvScJAz8",
        "outputId": "542bdcf5-ff5c-4645-b676-9d672506c044"
      },
      "outputs": [
        {
          "output_type": "stream",
          "name": "stdout",
          "text": [
            "+----------+------+---+--------------+--------------+------------+-----+\n",
            "|CustomerID|Gender|Age|      Contract|MonthlyCharges|TotalCharges|Churn|\n",
            "+----------+------+---+--------------+--------------+------------+-----+\n",
            "|         1|Female| 25|Month-to-Month|          65.7|       156.5|   No|\n",
            "|         2|  Male| 37|      One Year|          89.0|      2356.8|   No|\n",
            "|         3|  Male| 52|      Two Year|         115.5|      5408.6|   No|\n",
            "|         4|Female| 30|Month-to-Month|          75.9|       129.4|  Yes|\n",
            "|         5|  Male| 45|      One Year|          98.2|      3142.0|   No|\n",
            "|         6|Female| 55|      Two Year|          99.9|      6541.5|   No|\n",
            "|         7|  Male| 32|Month-to-Month|          82.1|       267.7|  Yes|\n",
            "|         8|Female| 28|Month-to-Month|          61.5|       346.9|   No|\n",
            "|         9|  Male| 48|      One Year|         101.8|      5149.6|  Yes|\n",
            "|        10|Female| 60|      Two Year|         108.1|      6742.8|  Yes|\n",
            "|        11|  Male| 42|Month-to-Month|          78.9|       547.6|   No|\n",
            "|        12|Female| 35|      One Year|          94.7|      1950.2|   No|\n",
            "|        13|  Male| 41|      Two Year|          96.5|      4188.1|   No|\n",
            "|        14|  Male| 38|Month-to-Month|          79.1|       148.2|  Yes|\n",
            "|        15|Female| 50|      One Year|         105.5|      4759.1|  Yes|\n",
            "|        16|  Male| 47|      Two Year|         112.3|      5432.0|  Yes|\n",
            "|        17|Female| 26|Month-to-Month|          68.2|       289.1|   No|\n",
            "|        18|  Male| 33|Month-to-Month|          75.5|       462.5|  Yes|\n",
            "|        19|Female| 31|      One Year|          85.9|      1673.8|   No|\n",
            "|        20|  Male| 39|      Two Year|          97.1|      3992.4|   No|\n",
            "+----------+------+---+--------------+--------------+------------+-----+\n",
            "\n"
          ]
        }
      ],
      "source": [
        "# Importing necessary libraries\n",
        "from pyspark.sql import SparkSession\n",
        "from pyspark.ml import Pipeline\n",
        "from pyspark.ml.feature import StringIndexer, OneHotEncoder, VectorAssembler, StandardScaler\n",
        "from pyspark.ml.classification import RandomForestClassifier\n",
        "from pyspark.ml.evaluation import BinaryClassificationEvaluator\n",
        "from pyspark.ml.classification import LogisticRegression, GBTClassifier, LinearSVC\n",
        "from pyspark.ml.tuning import ParamGridBuilder, CrossValidator\n",
        "from pyspark.ml.evaluation import MulticlassClassificationEvaluator\n",
        "\n",
        "# Creating a SparkSession\n",
        "\n",
        "spark = SparkSession.builder.appName(\"TelecomChurnPrediction\").getOrCreate()\n",
        "\n",
        "# Loading  the dataset\n",
        "df = spark.read.csv(\"telecom_dataset.csv\", header=True, inferSchema=True)\n",
        "\n",
        "# Data Preprocessing\n",
        "df = df.dropna()\n",
        "\n",
        "# Drop rows with missing values\n",
        "df.show()\n",
        "\n"
      ]
    },
    {
      "cell_type": "code",
      "execution_count": 33,
      "metadata": {
        "colab": {
          "base_uri": "https://localhost:8080/"
        },
        "id": "nVfGJhggKgeM",
        "outputId": "bf88505e-6c28-46c7-af7d-149cfb403042"
      },
      "outputs": [
        {
          "output_type": "stream",
          "name": "stdout",
          "text": [
            "+----------+------+---+--------------+--------------+------------+-----+------------------+---------------------+\n",
            "|CustomerID|Gender|Age|      Contract|MonthlyCharges|TotalCharges|Churn|     call_duration|average_monthly_spend|\n",
            "+----------+------+---+--------------+--------------+------------+-----+------------------+---------------------+\n",
            "|         1|Female| 25|Month-to-Month|          65.7|       156.5|   No|1.5133333333333332|                 65.7|\n",
            "|         2|  Male| 37|      One Year|          89.0|      2356.8|   No| 37.79666666666667|                 89.0|\n",
            "|         3|  Male| 52|      Two Year|         115.5|      5408.6|   No| 88.21833333333333|                115.5|\n",
            "|         4|Female| 30|Month-to-Month|          75.9|       129.4|  Yes|0.8916666666666667|                 75.9|\n",
            "|         5|  Male| 45|      One Year|          98.2|      3142.0|   No|50.730000000000004|                 98.2|\n",
            "|         6|Female| 55|      Two Year|          99.9|      6541.5|   No|            107.36|                 99.9|\n",
            "|         7|  Male| 32|Month-to-Month|          82.1|       267.7|  Yes|3.0933333333333333|                 82.1|\n",
            "|         8|Female| 28|Month-to-Month|          61.5|       346.9|   No| 4.756666666666666|                 61.5|\n",
            "|         9|  Male| 48|      One Year|         101.8|      5149.6|  Yes| 84.13000000000001|                101.8|\n",
            "|        10|Female| 60|      Two Year|         108.1|      6742.8|  Yes|110.57833333333333|                108.1|\n",
            "|        11|  Male| 42|Month-to-Month|          78.9|       547.6|   No| 7.811666666666667|                 78.9|\n",
            "|        12|Female| 35|      One Year|          94.7|      1950.2|   No|            30.925|                 94.7|\n",
            "|        13|  Male| 41|      Two Year|          96.5|      4188.1|   No| 68.19333333333334|                 96.5|\n",
            "|        14|  Male| 38|Month-to-Month|          79.1|       148.2|  Yes|1.1516666666666666|                 79.1|\n",
            "|        15|Female| 50|      One Year|         105.5|      4759.1|  Yes|             77.56|                105.5|\n",
            "|        16|  Male| 47|      Two Year|         112.3|      5432.0|  Yes| 88.66166666666666|                112.3|\n",
            "|        17|Female| 26|Month-to-Month|          68.2|       289.1|   No| 3.681666666666667|                 68.2|\n",
            "|        18|  Male| 33|Month-to-Month|          75.5|       462.5|  Yes|              6.45|                 75.5|\n",
            "|        19|Female| 31|      One Year|          85.9|      1673.8|   No|26.464999999999996|                 85.9|\n",
            "|        20|  Male| 39|      Two Year|          97.1|      3992.4|   No| 64.92166666666667|                 97.1|\n",
            "+----------+------+---+--------------+--------------+------------+-----+------------------+---------------------+\n",
            "\n",
            "root\n",
            " |-- CustomerID: integer (nullable = true)\n",
            " |-- Gender: string (nullable = true)\n",
            " |-- Age: integer (nullable = true)\n",
            " |-- Contract: string (nullable = true)\n",
            " |-- MonthlyCharges: double (nullable = true)\n",
            " |-- TotalCharges: double (nullable = true)\n",
            " |-- Churn: string (nullable = true)\n",
            " |-- call_duration: double (nullable = true)\n",
            " |-- average_monthly_spend: double (nullable = true)\n",
            "\n"
          ]
        }
      ],
      "source": [
        "# Calculating call duration (assuming call_start_time and call_end_time columns are present)\n",
        "df = df.withColumn(\"call_duration\", (df[\"TotalCharges\"] - df[\"MonthlyCharges\"]) / 60)\n",
        "\n",
        "# Calculating average monthly spend\n",
        "df = df.withColumn(\"average_monthly_spend\", df[\"MonthlyCharges\"])\n",
        "\n",
        "# Display the updated dataset with new features\n",
        "df.show()\n",
        "\n",
        "df.printSchema()"
      ]
    },
    {
      "cell_type": "code",
      "source": [
        "# Encodinging categorical variables\n",
        "\n",
        "categorical_cols = ['Gender', 'Contract','Churn']\n",
        "indexers = [StringIndexer(inputCol=col, outputCol=col+'_index').fit(df) for col in categorical_cols]\n",
        "pipeline = Pipeline(stages=indexers)\n",
        "dataset = pipeline.fit(df).transform(df)"
      ],
      "metadata": {
        "id": "eA4-VqEQPH3m"
      },
      "execution_count": 34,
      "outputs": []
    },
    {
      "cell_type": "code",
      "source": [
        "# Feature scaling\n",
        "assembler = VectorAssembler(inputCols=['Age', 'average_monthly_spend', 'call_duration', 'Gender_index'], outputCol='features')\n",
        "dataset = assembler.transform(dataset)\n",
        "scaler = StandardScaler(inputCol='features', outputCol='scaled_features')\n",
        "scaler_model = scaler.fit(dataset)\n",
        "dataset = scaler_model.transform(dataset)"
      ],
      "metadata": {
        "id": "0PF4OmBOQFsb"
      },
      "execution_count": 35,
      "outputs": []
    },
    {
      "cell_type": "code",
      "source": [
        "# Splitting the data into training and testing sets\n",
        "(train_data, test_data) = dataset.randomSplit([0.8, 0.2], seed=42)"
      ],
      "metadata": {
        "id": "qiQKK9L6Qkws"
      },
      "execution_count": 37,
      "outputs": []
    },
    {
      "cell_type": "code",
      "source": [
        "# Model training and evaluation\n",
        "lr = LogisticRegression(labelCol='Churn_index', featuresCol='scaled_features')\n",
        "\n",
        "# Model selection and training\n",
        "classifiers = [LogisticRegression(labelCol='Churn_index', featuresCol='scaled_features'), RandomForestClassifier(labelCol='Churn_index', featuresCol='scaled_features'), GBTClassifier(labelCol='Churn_index', featuresCol='scaled_features'), LinearSVC(labelCol='Churn_index', featuresCol='scaled_features') ]\n",
        "\n",
        "# Defining the parameter grid for each classifier\n",
        "paramGrids = [ParamGridBuilder().addGrid(LogisticRegression.regParam, [0.1, 0.01]).addGrid(LogisticRegression.elasticNetParam, [0.0, 0.5, 1.0]).build(), ParamGridBuilder().addGrid(RandomForestClassifier.numTrees, [10, 20, 30]).addGrid(RandomForestClassifier.featureSubsetStrategy, ['auto', 'sqrt']).build(), ParamGridBuilder().addGrid(GBTClassifier.maxDepth, [5, 10]).addGrid(GBTClassifier.maxIter, [20, 30]).build(), ParamGridBuilder().addGrid(LinearSVC.maxIter, [10, 20]).addGrid(LinearSVC.regParam, [0.1, 0.01]).build() ]\n",
        "evaluator = BinaryClassificationEvaluator(labelCol='Churn_index')\n",
        "best_model = None\n",
        "best_accuracy = 0.0\n",
        "\n",
        "# Iterating over classifiers and parameter grids for classifier, paramGrid in zip(classifiers, paramGrids):\n",
        "pipeline = Pipeline(stages=[classifiers])\n",
        "crossval = CrossValidator(estimator=pipeline, estimatorParamMaps=paramGrids, evaluator=evaluator, numFolds=5)\n",
        "cv_model = crossval.fit(train_data)\n",
        "\n",
        "# Model evaluation on test data\n",
        "predictions = cv_model.transform(test_data)\n",
        "accuracy = evaluator.evaluate(predictions)\n",
        "print(f\"Accuracy for {classifiers.__class__.__name__}: {accuracy}\")\n",
        "if accuracy > best_accuracy:\n",
        "  best_model = cv_model.bestModel\n",
        "  best_accuracy = accuracy\n",
        "\n",
        "# Getting the best model and its parameters print(\"Best Model:\")\n",
        "print(best_model.stages[0])\n",
        "\n",
        "# Use the best model for predictions\n",
        "best_predictions = best_model.transform(test_data)\n",
        "\n",
        "# Performing evaluation on the best model\n",
        "best_accuracy = evaluator.evaluate(best_predictions)\n",
        "print(\"Best Model Accuracy:\", best_accuracy)"
      ],
      "metadata": {
        "id": "19TQZh2rmH3e"
      },
      "execution_count": null,
      "outputs": []
    },
    {
      "cell_type": "code",
      "source": [
        "# Creating a MulticlassClassificationEvaluator\n",
        "evaluator = MulticlassClassificationEvaluator(labelCol='Churn_index', predictionCol='prediction')\n",
        "\n",
        "# Evaluating the best model on test data\n",
        "accuracy = evaluator.evaluate(best_predictions, {evaluator.metricName: 'accuracy'})\n",
        "precision = evaluator.evaluate(best_predictions, {evaluator.metricName: 'weightedPrecision'})\n",
        "recall = evaluator.evaluate(best_predictions, {evaluator.metricName: 'weightedRecall'})\n",
        "f1_score = evaluator.evaluate(best_predictions, {evaluator.metricName: 'f1'})\n",
        "\n",
        "# Printing the evaluation results\n",
        "print(\"Evaluation Metrics:\")\n",
        "print(f\"Accuracy: {accuracy}\")\n",
        "print(f\"Precision: {precision}\")\n",
        "print(f\"Recall: {recall}\")\n",
        "print(f\"F1-Score: {f1_score}\")"
      ],
      "metadata": {
        "id": "tRgFMgMymMRV"
      },
      "execution_count": null,
      "outputs": []
    }
  ],
  "metadata": {
    "colab": {
      "provenance": []
    },
    "kernelspec": {
      "display_name": "Python 3",
      "name": "python3"
    },
    "language_info": {
      "name": "python"
    }
  },
  "nbformat": 4,
  "nbformat_minor": 0
}